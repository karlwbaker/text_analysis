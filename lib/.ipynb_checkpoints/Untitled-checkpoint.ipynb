{
 "cells": [
  {
   "cell_type": "code",
   "execution_count": 3,
   "metadata": {},
   "outputs": [
    {
     "data": {
      "text/plain": [
       "{1, 2, 3, 4}"
      ]
     },
     "execution_count": 3,
     "metadata": {},
     "output_type": "execute_result"
    }
   ],
   "source": [
    "x = [1,2]\n",
    "y = [3,4]\n",
    "x+y\n",
    "set(x+y)"
   ]
  },
  {
   "cell_type": "code",
   "execution_count": 8,
   "metadata": {},
   "outputs": [
    {
     "name": "stdout",
     "output_type": "stream",
     "text": [
      "36\n",
      "2035\n",
      "37\n",
      "206\n"
     ]
    }
   ],
   "source": [
    "MALE_WORDS = [\n",
    "    \"men's\",'men','him',\"he's\",'his',\n",
    "    'boy','boys','brother','brothers','father','fathers','fiance',\n",
    "    'god','grandfather','grandson','groom','he','himself',\n",
    "    'husband','husbands','king','male','man','nephew','nephews',\n",
    "    'priest','prince','son','sons','uncle','uncles','widower',\n",
    "    'widowers',\n",
    "    'soldier','general','commander'\n",
    "]\n",
    "\n",
    "print(len(MALE_WORDS))\n",
    "\n",
    "PATH = r'C:\\Users\\karls\\Anaconda2\\code_projects\\text_analysis\\corpora\\corpora_helper_files'\n",
    "filename = r'\\Men_in_Bible_named.txt'\n",
    "\n",
    "with open(PATH+filename) as f:\n",
    "    MALE_NAMES = f.readlines() \n",
    "\n",
    "MALE_WORDS = set(MALE_WORDS + list(MALE_NAMES))\n",
    "      \n",
    "print(len(MALE_WORDS))\n",
    "\n",
    "FEMALE_WORDS = [\n",
    "    \"women's\",'women',\n",
    "    \"she's\",'her','aunt','aunts','bride','daughter','daughters','female',\n",
    "    'fiancee','girl','girls','goddess',\n",
    "    'granddaughter','grandmother','herself','ladies','lady',\n",
    "    'mother','mothers','niece','nieces',\n",
    "    'priestess','princess','queen','she','sister','sisters',\n",
    "    'widow','widows','wife','wives','woman',\n",
    "    'prostitute','betrothed','concubine'\n",
    "]\n",
    "      \n",
    "print(len(FEMALE_WORDS))\n",
    "\n",
    "filename = r'\\Women_in_Bible_named.txt'\n",
    "\n",
    "with open(PATH+filename) as f:\n",
    "    FEMALE_NAMES = f.readlines() \n",
    "\n",
    "FEMALE_WORDS = set(FEMALE_WORDS + list(FEMALE_NAMES))\n",
    "\n",
    "print(len(FEMALE_WORDS))"
   ]
  },
  {
   "cell_type": "code",
   "execution_count": null,
   "metadata": {
    "collapsed": true
   },
   "outputs": [],
   "source": []
  }
 ],
 "metadata": {
  "kernelspec": {
   "display_name": "Python 3",
   "language": "python",
   "name": "python3"
  },
  "language_info": {
   "codemirror_mode": {
    "name": "ipython",
    "version": 3
   },
   "file_extension": ".py",
   "mimetype": "text/x-python",
   "name": "python",
   "nbconvert_exporter": "python",
   "pygments_lexer": "ipython3",
   "version": "3.6.4"
  }
 },
 "nbformat": 4,
 "nbformat_minor": 2
}
