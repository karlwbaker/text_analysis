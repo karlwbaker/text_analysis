{
 "cells": [
  {
   "cell_type": "code",
   "execution_count": 35,
   "metadata": {},
   "outputs": [
    {
     "name": "stdout",
     "output_type": "stream",
     "text": [
      "\\Men_in_Bible_named.txt rows before:  1793\n",
      "\\Men_in_Bible_named.txt rows after:  2103\n",
      "\\Women_in_Bible_named.txt rows before:  196\n",
      "\\Women_in_Bible_named.txt rows after:  201\n"
     ]
    }
   ],
   "source": [
    "# In final project, web scrape, API, or otherwise programmatically obtain male/female name lists.\n",
    "# Here I have manually copied this info from web page to text files.\n",
    "\n",
    "PATH = r'C:\\Users\\karls\\Anaconda2\\code_projects\\text_analysis\\corpora\\corpora_helper_files'\n",
    "filenames = [r'\\Men_in_Bible_named.txt', r'\\Women_in_Bible_named.txt']\n",
    "\n",
    "for filename in filenames:\n",
    "    \n",
    "    # print num of rows before modification\n",
    "    print(filename, 'rows before: ', sum(1 for line in open(PATH+filename)))\n",
    "    \n",
    "    with open(PATH+filename, \"r+\") as f:\n",
    "        s = f.read()\n",
    "\n",
    "        # remove punctuation/text on names with alternate spellings\n",
    "        s = s.replace(', Mother of John Mark',           '') # female\n",
    "        s = s.replace(', the Mother of James and Joses', '') # female\n",
    "        s = s.replace(', ',            '\\n') # female and male\n",
    "        s = s.replace(' and ',         '\\n') # female\n",
    "        s = s.replace(' or ',          '\\n') # female and male\n",
    "        s = s.replace(' of Rome',      '')   # female\n",
    "        s = s.replace(' (see also ',   '\\n') # female\n",
    "        s = s.replace(' (see ',        '\\n') # female\n",
    "        s = s.replace(' (See ',        '\\n') # female\n",
    "        s = s.replace(' (Compare ',    '\\n') # female\n",
    "        s = s.replace(' (RV)',         '')   # female \n",
    "        s = s.replace(' (',            '\\n') # female\n",
    "        s = s.replace(')',             '')   # female\n",
    "        for i in range(4):\n",
    "            s = s.replace(' No. ' + str(i), '')   # female\n",
    "\n",
    "        # remove letter headings (A, B, C, ...)\n",
    "        # a crude approach until I figure out how to iterate on [A-Z] in the for statement\n",
    "        import re\n",
    "\n",
    "        for i in range(26):\n",
    "            s = re.sub(r'([A-Z])\\n', r'', s) \n",
    "\n",
    "        f.seek(0)\n",
    "        f.write(s)\n",
    "        f.truncate()\n",
    "\n",
    "    # print num of rows after modification\n",
    "    print(filename, 'rows after: ', sum(1 for line in open(PATH+filename)))"
   ]
  },
  {
   "cell_type": "code",
   "execution_count": null,
   "metadata": {
    "collapsed": true
   },
   "outputs": [],
   "source": []
  },
  {
   "cell_type": "code",
   "execution_count": null,
   "metadata": {
    "collapsed": true
   },
   "outputs": [],
   "source": []
  }
 ],
 "metadata": {
  "kernelspec": {
   "display_name": "Python 3",
   "language": "python",
   "name": "python3"
  },
  "language_info": {
   "codemirror_mode": {
    "name": "ipython",
    "version": 3
   },
   "file_extension": ".py",
   "mimetype": "text/x-python",
   "name": "python",
   "nbconvert_exporter": "python",
   "pygments_lexer": "ipython3",
   "version": "3.6.4"
  }
 },
 "nbformat": 4,
 "nbformat_minor": 2
}
