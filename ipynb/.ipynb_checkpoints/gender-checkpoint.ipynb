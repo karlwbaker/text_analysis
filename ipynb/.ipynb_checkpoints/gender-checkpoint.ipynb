{
 "cells": [
  {
   "cell_type": "code",
   "execution_count": 1,
   "metadata": {},
   "outputs": [
    {
     "ename": "ModuleNotFoundError",
     "evalue": "No module named 'gender'",
     "output_type": "error",
     "traceback": [
      "\u001b[1;31m---------------------------------------------------------------------------\u001b[0m",
      "\u001b[1;31mModuleNotFoundError\u001b[0m                       Traceback (most recent call last)",
      "\u001b[1;32m<ipython-input-1-bbc2484fa3d0>\u001b[0m in \u001b[0;36m<module>\u001b[1;34m()\u001b[0m\n\u001b[1;32m----> 1\u001b[1;33m \u001b[1;32mfrom\u001b[0m \u001b[0mgender\u001b[0m \u001b[1;32mimport\u001b[0m \u001b[1;33m*\u001b[0m\u001b[1;33m\u001b[0m\u001b[0m\n\u001b[0m",
      "\u001b[1;31mModuleNotFoundError\u001b[0m: No module named 'gender'"
     ]
    }
   ],
   "source": [
    "from gender import *"
   ]
  },
  {
   "cell_type": "code",
   "execution_count": 3,
   "metadata": {},
   "outputs": [
    {
     "name": "stdout",
     "output_type": "stream",
     "text": [
      "39.269% unknown (48 sentences)\n",
      "52.994% female (38 sentences)\n",
      "4.393% both (2 sentences)\n",
      "3.344% male (3 sentences)\n"
     ]
    }
   ],
   "source": [
    "with open('corpora/ballet.txt', 'r', encoding='utf8') as f:\n",
    "    parse_gender(f.read())"
   ]
  },
  {
   "cell_type": "code",
   "execution_count": 4,
   "metadata": {},
   "outputs": [
    {
     "name": "stdout",
     "output_type": "stream",
     "text": [
      "66.074% male (4468 sentences)\n",
      "6.243% both (364 sentences)\n",
      "25.378% unknown (2501 sentences)\n",
      "2.304% female (178 sentences)\n"
     ]
    }
   ],
   "source": [
    "with open('corpora/kjv/KJV_NT.txt', 'r', encoding='utf8') as f:\n",
    "    parse_gender(f.read())"
   ]
  },
  {
   "cell_type": "code",
   "execution_count": 5,
   "metadata": {},
   "outputs": [
    {
     "name": "stdout",
     "output_type": "stream",
     "text": [
      "59.113% male (11988 sentences)\n",
      "29.059% unknown (8148 sentences)\n",
      "8.835% both (1466 sentences)\n",
      "2.993% female (699 sentences)\n"
     ]
    }
   ],
   "source": [
    "with open('corpora/kjv/KJV_OT.txt', 'r', encoding='utf8') as f:\n",
    "    parse_gender(f.read())"
   ]
  },
  {
   "cell_type": "code",
   "execution_count": 6,
   "metadata": {},
   "outputs": [
    {
     "name": "stdout",
     "output_type": "stream",
     "text": [
      "52.997% male (798 sentences)\n",
      "25.837% unknown (809 sentences)\n",
      "16.654% both (162 sentences)\n",
      "4.512% female (78 sentences)\n"
     ]
    }
   ],
   "source": [
    "with open('corpora/milton/paradise_lost.txt', 'r', encoding='utf8') as f:\n",
    "    parse_gender(f.read())"
   ]
  },
  {
   "cell_type": "code",
   "execution_count": 7,
   "metadata": {},
   "outputs": [
    {
     "name": "stdout",
     "output_type": "stream",
     "text": [
      "24.868% unknown (1223 sentences)\n",
      "48.285% male (1725 sentences)\n",
      "9.363% female (366 sentences)\n",
      "17.484% both (496 sentences)\n"
     ]
    }
   ],
   "source": [
    "with open('corpora/homer/odyssey.txt', 'r', encoding='utf8') as f:\n",
    "    parse_gender(f.read())"
   ]
  },
  {
   "cell_type": "code",
   "execution_count": null,
   "metadata": {
    "collapsed": true
   },
   "outputs": [],
   "source": []
  }
 ],
 "metadata": {
  "kernelspec": {
   "display_name": "Python 3",
   "language": "python",
   "name": "python3"
  },
  "language_info": {
   "codemirror_mode": {
    "name": "ipython",
    "version": 3
   },
   "file_extension": ".py",
   "mimetype": "text/x-python",
   "name": "python",
   "nbconvert_exporter": "python",
   "pygments_lexer": "ipython3",
   "version": "3.6.4"
  }
 },
 "nbformat": 4,
 "nbformat_minor": 2
}
