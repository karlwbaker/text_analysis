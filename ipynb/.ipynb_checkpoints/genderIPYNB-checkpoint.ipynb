{
 "cells": [
  {
   "cell_type": "code",
   "execution_count": 14,
   "metadata": {
    "collapsed": true
   },
   "outputs": [],
   "source": [
    "# pwd --> 'C:\\\\Users\\\\karls\\\\Anaconda2\\\\code_projects\\\\text_analysis\\\\ipynb'\n",
    "\n",
    "import sys\n",
    "sys.path.insert(0, 'C:\\\\Users\\\\karls\\\\Anaconda2\\\\code_projects\\\\text_analysis\\\\lib')"
   ]
  },
  {
   "cell_type": "code",
   "execution_count": 15,
   "metadata": {},
   "outputs": [],
   "source": [
    "# from gender import *"
   ]
  },
  {
   "cell_type": "markdown",
   "metadata": {},
   "source": [
    "```\n",
    "\"\"\"\n",
    "BALLET OUTPUT FROM ORIGINAL GENDER WORDS LISTS:\n",
    "\n",
    "39.269% unknown (48 sentences)\n",
    "52.994% female (38 sentences)\n",
    "4.393% both (2 sentences)\n",
    "3.344% male (3 sentences)\n",
    "NT\n",
    "OUTPUT FROM ORIGINAL GENDER WORDS LISTS:\n",
    "\n",
    "66.074% male (4468 sentences)\n",
    "6.243% both (364 sentences)\n",
    "25.378% unknown (2501 sentences)\n",
    "2.304% female (178 sentences)\n",
    "OT\n",
    "OUTPUT FROM ORIGINAL GENDER WORDS LISTS:\n",
    "\n",
    "59.113% male (11988 sentences)\n",
    "29.059% unknown (8148 sentences)\n",
    "8.835% both (1466 sentences)\n",
    "2.993% female (699 sentences)\n",
    "PARADISE LOST\n",
    "OUTPUT FROM ORIGINAL GENDER WORDS LISTS:\n",
    "\n",
    "52.997% male (798 sentences)\n",
    "25.837% unknown (809 sentences)\n",
    "16.654% both (162 sentences)\n",
    "4.512% female (78 sentences)\n",
    "ODYSSEY\n",
    "OUTPUT FROM ORIGINAL GENDER WORDS LISTS:\n",
    "\n",
    "24.868% unknown (1223 sentences)\n",
    "48.285% male (1725 sentences)\n",
    "9.363% female (366 sentences)\n",
    "17.484% both (496 sentences)\n",
    "```"
   ]
  },
  {
   "cell_type": "code",
   "execution_count": 16,
   "metadata": {
    "collapsed": true
   },
   "outputs": [],
   "source": [
    "files = ([\n",
    "    '../corpora/ballet.txt',\n",
    "    '../corpora/kjv/KJV_NT.txt',\n",
    "    '../corpora/kjv/KJV_OT.txt',\n",
    "    '../corpora/milton/paradise_lost.txt',\n",
    "    '../corpora/homer/odyssey.txt'\n",
    "])"
   ]
  },
  {
   "cell_type": "code",
   "execution_count": 17,
   "metadata": {
    "collapsed": true
   },
   "outputs": [],
   "source": [
    "import nltk\n",
    "from collections import Counter"
   ]
  },
  {
   "cell_type": "code",
   "execution_count": 18,
   "metadata": {
    "collapsed": true
   },
   "outputs": [],
   "source": [
    "MALE = 'male'\n",
    "FEMALE = 'female'\n",
    "UNKNOWN = 'unknown'\n",
    "BOTH = 'both'"
   ]
  },
  {
   "cell_type": "code",
   "execution_count": 19,
   "metadata": {},
   "outputs": [
    {
     "name": "stdout",
     "output_type": "stream",
     "text": [
      "3\n"
     ]
    }
   ],
   "source": [
    "# MALE_WORDS = [\n",
    "#     \"men's\",'men','him',\"he's\",'his',\n",
    "#     'boy','boys','brother','brothers','father','fathers','fiance',\n",
    "#     'god','grandfather','grandson','groom','he','himself',\n",
    "#     'husband','husbands','king','male','man','nephew','nephews',\n",
    "#     'priest','prince','son','sons','uncle','uncles','widower',\n",
    "#     'widowers',\n",
    "#     'soldier','general','commander'\n",
    "# ]\n",
    "\n",
    "MALE_WORDS = set(['he', 'him', 'his'])\n",
    "\n",
    "print(len(MALE_WORDS))"
   ]
  },
  {
   "cell_type": "code",
   "execution_count": 20,
   "metadata": {},
   "outputs": [],
   "source": [
    "# PATH = r'C:\\Users\\karls\\Anaconda2\\code_projects\\text_analysis\\corpora\\corpora_helper_files'\n",
    "# filename = r'\\Men_in_Bible_named.txt'\n",
    "\n",
    "# with open(PATH+filename) as f:\n",
    "#     MALE_NAMES = f.readlines() \n",
    "\n",
    "# MALE_WORDS_NAMES = set(MALE_WORDS + list(MALE_NAMES))\n",
    "      \n",
    "# print(len(MALE_WORDS_NAMES))"
   ]
  },
  {
   "cell_type": "code",
   "execution_count": 21,
   "metadata": {},
   "outputs": [
    {
     "name": "stdout",
     "output_type": "stream",
     "text": [
      "3\n"
     ]
    }
   ],
   "source": [
    "# FEMALE_WORDS = [\n",
    "#     \"women's\",'women',\n",
    "#     \"she's\",'her','aunt','aunts','bride','daughter','daughters','female',\n",
    "#     'fiancee','girl','girls','goddess',\n",
    "#     'granddaughter','grandmother','herself','ladies','lady',\n",
    "#     'mother','mothers','niece','nieces',\n",
    "#     'priestess','princess','queen','she','sister','sisters',\n",
    "#     'widow','widows','wife','wives','woman',\n",
    "#     'prostitute','betrothed','concubine'\n",
    "# ]\n",
    "\n",
    "FEMALE_WORDS = set(['she', 'her', 'hers'])\n",
    "\n",
    "print(len(FEMALE_WORDS))"
   ]
  },
  {
   "cell_type": "code",
   "execution_count": 22,
   "metadata": {},
   "outputs": [],
   "source": [
    "# filename = r'\\Women_in_Bible_named.txt'\n",
    "\n",
    "# with open(PATH+filename) as f:\n",
    "#     FEMALE_NAMES = f.readlines() \n",
    "\n",
    "# FEMALE_WORDS_NAMES = set(FEMALE_WORDS + list(FEMALE_NAMES))\n",
    "\n",
    "# print(len(FEMALE_WORDS_NAMES))"
   ]
  },
  {
   "cell_type": "code",
   "execution_count": 23,
   "metadata": {
    "collapsed": true
   },
   "outputs": [],
   "source": [
    "def genderize(words):\n",
    "\n",
    "    mwlen = len(MALE_WORDS.intersection(words))\n",
    "    fwlen = len(FEMALE_WORDS.intersection(words))\n",
    "\n",
    "    if mwlen > 0 and fwlen == 0:\n",
    "        return MALE\n",
    "    elif mwlen == 0 and fwlen > 0:\n",
    "        return FEMALE\n",
    "    elif mwlen > 0 and fwlen > 0:\n",
    "        return BOTH\n",
    "    else:\n",
    "        return UNKNOWN"
   ]
  },
  {
   "cell_type": "code",
   "execution_count": 24,
   "metadata": {
    "collapsed": true
   },
   "outputs": [],
   "source": [
    "def count_gender(sentences):\n",
    "\n",
    "    sents = Counter()\n",
    "    words = Counter()\n",
    "\n",
    "    for sentence in sentences:\n",
    "        gender = genderize(sentence)\n",
    "        sents[gender] += 1\n",
    "        words[gender] += len(sentence)\n",
    "\n",
    "    return sents, words"
   ]
  },
  {
   "cell_type": "code",
   "execution_count": 25,
   "metadata": {
    "collapsed": true
   },
   "outputs": [],
   "source": [
    "def parse_gender(text):\n",
    "\n",
    "    sentences = [\n",
    "        [word.lower() for word in nltk.word_tokenize(sentence)]\n",
    "        for sentence in nltk.sent_tokenize(text)\n",
    "    ]\n",
    "\n",
    "    sents, words = count_gender(sentences)\n",
    "    total = sum(words.values())\n",
    "\n",
    "    for gender, count in words.items():\n",
    "        pcent = (count / total) * 100\n",
    "        nsents = sents[gender]\n",
    "\n",
    "        print(\n",
    "            \"{:0.3f}% {} ({} sentences)\".format(pcent, gender, nsents)\n",
    "        )"
   ]
  },
  {
   "cell_type": "code",
   "execution_count": 26,
   "metadata": {},
   "outputs": [
    {
     "name": "stdout",
     "output_type": "stream",
     "text": [
      "../corpora/ballet.txt\n",
      "40.708% unknown (48 sentences)\n",
      "51.555% female (38 sentences)\n",
      "4.393% both (2 sentences)\n",
      "3.344% male (3 sentences)\n",
      "\n",
      "../corpora/kjv/KJV_NT.txt\n",
      "43.789% unknown (3746 sentences)\n",
      "2.292% both (133 sentences)\n",
      "2.287% female (159 sentences)\n",
      "51.631% male (3473 sentences)\n",
      "\n",
      "../corpora/kjv/KJV_OT.txt\n",
      "50.460% unknown (12478 sentences)\n",
      "43.385% male (8637 sentences)\n",
      "2.775% both (474 sentences)\n",
      "3.380% female (712 sentences)\n",
      "\n",
      "../corpora/milton/paradise_lost.txt\n",
      "33.889% unknown (966 sentences)\n",
      "48.084% male (683 sentences)\n",
      "11.384% both (102 sentences)\n",
      "6.642% female (96 sentences)\n",
      "\n",
      "../corpora/homer/odyssey.txt\n",
      "39.690% unknown (1765 sentences)\n",
      "42.008% male (1455 sentences)\n",
      "10.213% female (367 sentences)\n",
      "8.089% both (223 sentences)\n",
      "\n"
     ]
    }
   ],
   "source": [
    "for file in files:\n",
    "    print(file)\n",
    "    with open(file, 'r', encoding='utf8') as f:\n",
    "        parse_gender(f.read())\n",
    "        print()"
   ]
  },
  {
   "cell_type": "code",
   "execution_count": null,
   "metadata": {
    "collapsed": true
   },
   "outputs": [],
   "source": []
  },
  {
   "cell_type": "code",
   "execution_count": null,
   "metadata": {
    "collapsed": true
   },
   "outputs": [],
   "source": []
  }
 ],
 "metadata": {
  "kernelspec": {
   "display_name": "Python 3",
   "language": "python",
   "name": "python3"
  },
  "language_info": {
   "codemirror_mode": {
    "name": "ipython",
    "version": 3
   },
   "file_extension": ".py",
   "mimetype": "text/x-python",
   "name": "python",
   "nbconvert_exporter": "python",
   "pygments_lexer": "ipython3",
   "version": "3.6.4"
  }
 },
 "nbformat": 4,
 "nbformat_minor": 2
}
