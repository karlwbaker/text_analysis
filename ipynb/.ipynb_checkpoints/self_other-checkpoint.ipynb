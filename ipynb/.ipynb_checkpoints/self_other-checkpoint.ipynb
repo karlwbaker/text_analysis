{
 "cells": [
  {
   "cell_type": "markdown",
   "metadata": {},
   "source": [
    "### Who the object (focus) of our hymns, praise, and worship songs: self or Other (God)?"
   ]
  },
  {
   "cell_type": "markdown",
   "metadata": {},
   "source": [
    "Scrapable sites:\n",
    "\n",
    "www.hymnlyrics.org\n"
   ]
  },
  {
   "cell_type": "code",
   "execution_count": 1,
   "metadata": {
    "collapsed": true
   },
   "outputs": [],
   "source": [
    "files = ([\n",
    "    '../corpora/hymns/A_Call_To_Prayer.txt',\n",
    "    '../corpora/hymns/All_Hail_the_Power_of_Jesus_Name.txt',\n",
    "    '../corpora/hymns/All_That_I_Am.txt'\n",
    "])"
   ]
  },
  {
   "cell_type": "code",
   "execution_count": 2,
   "metadata": {
    "collapsed": true
   },
   "outputs": [],
   "source": [
    "import nltk\n",
    "from collections import Counter"
   ]
  },
  {
   "cell_type": "code",
   "execution_count": 3,
   "metadata": {
    "collapsed": true
   },
   "outputs": [],
   "source": [
    "SELF = 'self'\n",
    "OTHER = 'other'\n",
    "UNKNOWN = 'unknown'\n",
    "BOTH = 'both'"
   ]
  },
  {
   "cell_type": "code",
   "execution_count": 4,
   "metadata": {},
   "outputs": [
    {
     "name": "stdout",
     "output_type": "stream",
     "text": [
      "16\n"
     ]
    }
   ],
   "source": [
    "SELF_WORDS = set(['I', 'me', 'my', 'mine', 'we', 'us', 'you', 'your', 'ye', \n",
    "                 'saints', 'congregation', 'church', 'martyr', 'martyrs',\n",
    "                 'sinner', 'sinners', ])\n",
    "\n",
    "# sometimes \"you\" lowercase refers to self, the congregation singing to each other. \n",
    "# Other times you/You refers to God. It partially depends if I can find a source of lyrics\n",
    "# that maintains the upper/lower case distinction.\n",
    "\n",
    "print(len(SELF_WORDS))"
   ]
  },
  {
   "cell_type": "code",
   "execution_count": 5,
   "metadata": {},
   "outputs": [
    {
     "name": "stdout",
     "output_type": "stream",
     "text": [
      "12\n"
     ]
    }
   ],
   "source": [
    "OTHER_WORDS = set(['You', 'Your', 'Thee', 'Thou', 'Thy', 'Him', 'His',\n",
    "                  'Lord', 'God', 'King', 'Jesus', 'Savior',\n",
    "                  ])\n",
    "\n",
    "print(len(OTHER_WORDS))"
   ]
  },
  {
   "cell_type": "code",
   "execution_count": 6,
   "metadata": {
    "collapsed": true
   },
   "outputs": [],
   "source": [
    "def objectize(words):\n",
    "\n",
    "    mwlen = len(SELF_WORDS.intersection(words))\n",
    "    fwlen = len(OTHER_WORDS.intersection(words))\n",
    "\n",
    "    if mwlen > 0 and fwlen == 0:\n",
    "        return SELF\n",
    "    elif mwlen == 0 and fwlen > 0:\n",
    "        return OTHER\n",
    "    elif mwlen > 0 and fwlen > 0:\n",
    "        return BOTH\n",
    "    else:\n",
    "        return UNKNOWN"
   ]
  },
  {
   "cell_type": "code",
   "execution_count": 7,
   "metadata": {
    "collapsed": true
   },
   "outputs": [],
   "source": [
    "def count_object_words(sentences):\n",
    "\n",
    "    sents = Counter()\n",
    "    words = Counter()\n",
    "\n",
    "    for sentence in sentences:\n",
    "        object_words = objectize(sentence)\n",
    "        sents[object_words] += 1\n",
    "        words[object_words] += len(sentence)\n",
    "\n",
    "    return sents, words"
   ]
  },
  {
   "cell_type": "code",
   "execution_count": 13,
   "metadata": {
    "collapsed": true
   },
   "outputs": [],
   "source": [
    "def parse_object_words(text):\n",
    "\n",
    "#     sentences = [\n",
    "#         [word.lower() for word in nltk.word_tokenize(sentence)]\n",
    "#         for sentence in nltk.sent_tokenize(text)\n",
    "#     ]\n",
    "    \n",
    "    \n",
    "    # test difference if I maintain casing (upper/lower)\n",
    "    sentences = [\n",
    "        [word for word in nltk.word_tokenize(sentence)]\n",
    "        for sentence in nltk.sent_tokenize(text)\n",
    "    ]\n",
    "    \n",
    "    # SHOULD ALSO CHANGE IT TO READ LINES INSTEAD OF SENTENCES\n",
    "    # TK\n",
    "\n",
    "    sents, words = count_object_words(sentences)\n",
    "    total = sum(words.values())\n",
    "\n",
    "    for object_words, count in words.items():\n",
    "        pcent = (count / total) * 100\n",
    "        nsents = sents[object_words]\n",
    "\n",
    "        print(\n",
    "            \"{:0.3f}% {} ({} sentences)\".format(pcent, object_words, nsents)\n",
    "        )"
   ]
  },
  {
   "cell_type": "code",
   "execution_count": 14,
   "metadata": {
    "collapsed": true
   },
   "outputs": [
    {
     "name": "stdout",
     "output_type": "stream",
     "text": [
      "../corpora/hymns/A_Call_To_Prayer.txt\n",
      "58.915% other (3 sentences)\n",
      "41.085% both (2 sentences)\n",
      "\n",
      "../corpora/hymns/All_Hail_the_Power_of_Jesus_Name.txt\n",
      "44.444% other (9 sentences)\n",
      "55.556% both (7 sentences)\n",
      "\n",
      "../corpora/hymns/All_That_I_Am.txt\n",
      "100.000% both (1 sentences)\n",
      "\n"
     ]
    }
   ],
   "source": [
    "for file in files:\n",
    "    print(file)\n",
    "#     with open(file, 'r', encoding='utf8') as f: # UnicodeDecodeError: 'utf-8' codec can't decode \n",
    "#                                                 # byte 0x93 in position 103: invalid start byte\n",
    "    with open(file, 'r', encoding='latin1') as f:\n",
    "        parse_object_words(f.read())\n",
    "        print()"
   ]
  },
  {
   "cell_type": "markdown",
   "metadata": {
    "collapsed": true
   },
   "source": [
    "#### word.lower() output:\n",
    "```\n",
    "../corpora/hymns/A_Call_To_Prayer.txt\n",
    "80.620% unknown (4 sentences)\n",
    "19.380% self (1 sentences)\n",
    "\n",
    "../corpora/hymns/All_Hail_the_Power_of_Jesus_Name.txt\n",
    "44.444% unknown (9 sentences)\n",
    "55.556% self (7 sentences)\n",
    "\n",
    "../corpora/hymns/All_That_I_Am.txt\n",
    "100.000% self (1 sentences)\n",
    "```\n",
    "\n",
    "#### word UPPER/LOWER output:\n",
    "```\n",
    "../corpora/hymns/A_Call_To_Prayer.txt\n",
    "58.915% other (3 sentences)               # FROM UNKNOWN TO OTHER\n",
    "41.085% both (2 sentences)                # FROM SELF TO BOTH\n",
    "\n",
    "../corpora/hymns/All_Hail_the_Power_of_Jesus_Name.txt\n",
    "44.444% other (9 sentences)               # FROM UNKNOWN TO OTHER\n",
    "55.556% both (7 sentences)                # FROM SELF TO BOTH\n",
    "\n",
    "../corpora/hymns/All_That_I_Am.txt\n",
    "100.000% both (1 sentences)               # FROM SELF TO BOTH\n",
    "```\n",
    "\n",
    "WOULD BE MORE MORE INTERESTING TO SEE BREAKOUT BY LINE SINCE 40% + SENTENCES END UP BOTH."
   ]
  },
  {
   "cell_type": "code",
   "execution_count": null,
   "metadata": {
    "collapsed": true
   },
   "outputs": [],
   "source": []
  }
 ],
 "metadata": {
  "kernelspec": {
   "display_name": "Python 3",
   "language": "python",
   "name": "python3"
  },
  "language_info": {
   "codemirror_mode": {
    "name": "ipython",
    "version": 3
   },
   "file_extension": ".py",
   "mimetype": "text/x-python",
   "name": "python",
   "nbconvert_exporter": "python",
   "pygments_lexer": "ipython3",
   "version": "3.6.4"
  }
 },
 "nbformat": 4,
 "nbformat_minor": 2
}
