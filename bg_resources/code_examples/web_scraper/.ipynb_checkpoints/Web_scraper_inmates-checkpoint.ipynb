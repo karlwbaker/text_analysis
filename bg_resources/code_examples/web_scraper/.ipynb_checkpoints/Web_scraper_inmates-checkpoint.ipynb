{
 "cells": [
  {
   "cell_type": "markdown",
   "metadata": {},
   "source": [
    "# Simple web scraper"
   ]
  },
  {
   "cell_type": "code",
   "execution_count": null,
   "metadata": {
    "collapsed": true
   },
   "outputs": [],
   "source": [
    "# import urllib2\n",
    "# urllib2.urlopen(\"http://www.python.org/\")"
   ]
  },
  {
   "cell_type": "code",
   "execution_count": null,
   "metadata": {
    "collapsed": true
   },
   "outputs": [],
   "source": [
    "import csv\n",
    "import requests\n",
    "from bs4 import BeautifulSoup"
   ]
  },
  {
   "cell_type": "markdown",
   "metadata": {},
   "source": [
    "![alt text](./img/inmates_view_source.JPG 'text')"
   ]
  },
  {
   "cell_type": "code",
   "execution_count": 21,
   "metadata": {
    "collapsed": true
   },
   "outputs": [],
   "source": [
    "url = 'http://www.showmeboone.com/sheriff/JailResidents/JailResidents.asp'\n",
    "response = requests.get(url)\n",
    "html = response.content\n",
    "\n",
    "soup = BeautifulSoup(html, \"lxml\")\n",
    "table = soup.find('tbody', attrs={'class': 'stripe'}) # this code depends on page structure, what I want to scrape\n",
    "\n",
    "list_of_rows = []\n",
    "for row in table.findAll('tr')[1:]:\n",
    "    list_of_cells = []\n",
    "    for cell in row.findAll('td'):\n",
    "        text = cell.text.replace('&nbsp;', '')\n",
    "        list_of_cells.append(text)\n",
    "    list_of_rows.append(list_of_cells)\n",
    "\n",
    "outfile = open(\"./inmates.csv\", \"w\")\n",
    "writer = csv.writer(outfile)\n",
    "writer.writerow([\"Last\", \"First\", \"Middle\", \"Gender\", \"Race\", \"Age\", \"City\", \"State\"])\n",
    "writer.writerows(list_of_rows)\n",
    "outfile.close()"
   ]
  }
 ],
 "metadata": {
  "kernelspec": {
   "display_name": "Python 3",
   "language": "python",
   "name": "python3"
  },
  "language_info": {
   "codemirror_mode": {
    "name": "ipython",
    "version": 3
   },
   "file_extension": ".py",
   "mimetype": "text/x-python",
   "name": "python",
   "nbconvert_exporter": "python",
   "pygments_lexer": "ipython3",
   "version": "3.6.4"
  }
 },
 "nbformat": 4,
 "nbformat_minor": 2
}
